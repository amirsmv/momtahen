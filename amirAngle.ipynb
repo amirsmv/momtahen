{
 "cells": [
  {
   "cell_type": "markdown",
   "metadata": {},
   "source": [
    "A succinct way to see why the answer is \\(T = -4.1\\) is to note that for *simple* linear regression (one predictor), the overall F‐statistic for the model satisfies\n"
   ]
  },
  {
   "cell_type": "markdown",
   "metadata": {},
   "source": [
    "$$\n",
    "\n",
    "F = T_{\\text{(slope)}}^2\n",
    "\n",
    "$$"
   ]
  },
  {
   "cell_type": "markdown",
   "metadata": {},
   "source": [
    "Here, we’re told \\( F = 16.81 \\). Taking the square root gives:"
   ]
  },
  {
   "cell_type": "markdown",
   "metadata": {},
   "source": [
    "$$\n",
    "|T| = \\sqrt{16.81} \\approx 4.1\n",
    "$$"
   ]
  },
  {
   "cell_type": "markdown",
   "metadata": {},
   "source": [
    "Since the slope in the fitted line (\\(-1.33\\)) is *negative*, the corresponding \\( T \\)-statistic inherits that negative sign. Therefore:\n"
   ]
  },
  {
   "cell_type": "markdown",
   "metadata": {},
   "source": [
    "\\[\n",
    "T = -4.1\n",
    "\\]\n"
   ]
  },
  {
   "cell_type": "markdown",
   "metadata": {},
   "source": []
  }
 ],
 "metadata": {
  "language_info": {
   "name": "python"
  }
 },
 "nbformat": 4,
 "nbformat_minor": 2
}
