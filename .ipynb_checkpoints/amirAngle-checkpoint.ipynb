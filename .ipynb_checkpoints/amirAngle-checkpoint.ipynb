{
 "cells": [
  {
   "cell_type": "markdown",
   "metadata": {},
   "source": [
    "A succinct way to see why the answer is \\(T = -4.1\\) is to note that for *simple* linear regression (one predictor), the overall F‐statistic for the model satisfies\n"
   ]
  },
  {
   "cell_type": "markdown",
   "metadata": {},
   "source": [
    "$$\n",
    "\n",
    "F = T_{\\text{(slope)}}^2\n",
    "\n",
    "$$"
   ]
  },
  {
   "cell_type": "markdown",
   "metadata": {},
   "source": [
    "Here, we’re told \\( F = 16.81 \\). Taking the square root gives:"
   ]
  },
  {
   "cell_type": "markdown",
   "metadata": {},
   "source": [
    "$$\n",
    "|T| = \\sqrt{16.81} \\approx 4.1\n",
    "$$"
   ]
  },
  {
   "cell_type": "markdown",
   "metadata": {},
   "source": [
    "Since the slope in the fitted line (\\(-1.33\\)) is *negative*, the corresponding \\( T \\)-statistic inherits that negative sign. Therefore:\n"
   ]
  },
  {
   "cell_type": "markdown",
   "metadata": {},
   "source": [
    "\\[\n",
    "T = -4.1\n",
    "\\]\n"
   ]
  },
  {
   "cell_type": "markdown",
   "metadata": {},
   "source": [
    "Q2222222222222222222222222222222222222"
   ]
  },
  {
   "cell_type": "markdown",
   "metadata": {},
   "source": [
    "Here’s how to format the solution in the same format for the professor, applied to this question:\n",
    "\n",
    "---\n",
    "\n",
    "Now that we know the coefficient of determination is given as \\( R^2 = 0.81 \\), we can calculate the Pearson correlation coefficient \\( r(X, Y) \\) as:\n",
    "\n",
    "$$\n",
    "r(X, Y) = \\pm \\sqrt{R^2}\n",
    "$$\n",
    "\n",
    "Since the slope of the regression line is negative (\\(-2.84\\)), the relationship between \\( X \\) and \\( Y \\) is negative. Therefore, the correlation coefficient \\( r(X, Y) \\) must also be negative. Substituting \\( R^2 = 0.81 \\):\n",
    "\n",
    "$$\n",
    "r(X, Y) = -\\sqrt{0.81} = -0.9\n",
    "$$\n",
    "\n",
    "Thus, the correct answer is:\n",
    "\n",
    "$$\n",
    "\\text{(b) } r(X, Y) = -0.9\n",
    "$$"
   ]
  }
 ],
 "metadata": {
  "language_info": {
   "name": "python"
  }
 },
 "nbformat": 4,
 "nbformat_minor": 2
}
